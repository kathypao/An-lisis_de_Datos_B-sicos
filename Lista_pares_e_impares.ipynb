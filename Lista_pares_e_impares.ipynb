{
  "nbformat": 4,
  "nbformat_minor": 0,
  "metadata": {
    "colab": {
      "provenance": [],
      "authorship_tag": "ABX9TyMeKpMxg70eqEXqRhurrIjb",
      "include_colab_link": true
    },
    "kernelspec": {
      "name": "python3",
      "display_name": "Python 3"
    },
    "language_info": {
      "name": "python"
    }
  },
  "cells": [
    {
      "cell_type": "markdown",
      "metadata": {
        "id": "view-in-github",
        "colab_type": "text"
      },
      "source": [
        "<a href=\"https://colab.research.google.com/github/kathypao/An-lisis_de_Datos_B-sicos/blob/main/Lista_pares_e_impares.ipynb\" target=\"_parent\"><img src=\"https://colab.research.google.com/assets/colab-badge.svg\" alt=\"Open In Colab\"/></a>"
      ]
    },
    {
      "cell_type": "code",
      "source": [
        "def contar_pares_impares(lista):\n",
        "    pares = 0\n",
        "    impares = 0\n",
        "    for numero in lista:\n",
        "        if numero % 2 == 0:\n",
        "            pares += 1\n",
        "        else:\n",
        "            impares += 1\n",
        "    return pares, impares"
      ],
      "metadata": {
        "id": "iMt_wgXHKHPm"
      },
      "execution_count": null,
      "outputs": []
    },
    {
      "cell_type": "code",
      "source": [
        "# Solicitar ingreso lista de números\n",
        "numeros = input(\"Ingrese una lista de números separados por comas: \")\n",
        "numeros_lista = [int(numero) for numero in numeros.split(\",\")]"
      ],
      "metadata": {
        "id": "KEm6lHjpKpsI"
      },
      "execution_count": null,
      "outputs": []
    },
    {
      "cell_type": "code",
      "source": [
        "# Llamar función\n",
        "pares, impares = contar_pares_impares(numeros_lista)\n"
      ],
      "metadata": {
        "id": "AuR62yLqK5eM"
      },
      "execution_count": 7,
      "outputs": []
    },
    {
      "cell_type": "code",
      "source": [
        "# Resultados\n",
        "print(f\"Cantidad de números pares: {pares}\")\n",
        "print(f\"Cantidad de números impares: {impares}\")"
      ],
      "metadata": {
        "colab": {
          "base_uri": "https://localhost:8080/"
        },
        "id": "3N_39q9MLdKd",
        "outputId": "cc2da138-0b6d-411c-8f9f-f1b0b229ebef"
      },
      "execution_count": 8,
      "outputs": [
        {
          "output_type": "stream",
          "name": "stdout",
          "text": [
            "Cantidad de números pares: 8\n",
            "Cantidad de números impares: 9\n"
          ]
        }
      ]
    }
  ]
}