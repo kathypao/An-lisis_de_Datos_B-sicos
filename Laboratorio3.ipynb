{
  "nbformat": 4,
  "nbformat_minor": 0,
  "metadata": {
    "colab": {
      "provenance": [],
      "authorship_tag": "ABX9TyM+OWZ2/uESM/djGdFfjo5E",
      "include_colab_link": true
    },
    "kernelspec": {
      "name": "python3",
      "display_name": "Python 3"
    },
    "language_info": {
      "name": "python"
    }
  },
  "cells": [
    {
      "cell_type": "markdown",
      "metadata": {
        "id": "view-in-github",
        "colab_type": "text"
      },
      "source": [
        "<a href=\"https://colab.research.google.com/github/kathypao/An-lisis_de_Datos_B-sicos/blob/main/Laboratorio3.ipynb\" target=\"_parent\"><img src=\"https://colab.research.google.com/assets/colab-badge.svg\" alt=\"Open In Colab\"/></a>"
      ]
    },
    {
      "cell_type": "code",
      "execution_count": 9,
      "metadata": {
        "colab": {
          "base_uri": "https://localhost:8080/",
          "height": 73
        },
        "id": "NSsHFR4qpSCO",
        "outputId": "8a5babe4-3dc8-43a5-b78a-46cadbe9be0b"
      },
      "outputs": [
        {
          "output_type": "display_data",
          "data": {
            "text/plain": [
              "<IPython.core.display.HTML object>"
            ],
            "text/html": [
              "\n",
              "     <input type=\"file\" id=\"files-eb1ba09b-50fa-4162-8125-09659459a7fa\" name=\"files[]\" multiple disabled\n",
              "        style=\"border:none\" />\n",
              "     <output id=\"result-eb1ba09b-50fa-4162-8125-09659459a7fa\">\n",
              "      Upload widget is only available when the cell has been executed in the\n",
              "      current browser session. Please rerun this cell to enable.\n",
              "      </output>\n",
              "      <script>// Copyright 2017 Google LLC\n",
              "//\n",
              "// Licensed under the Apache License, Version 2.0 (the \"License\");\n",
              "// you may not use this file except in compliance with the License.\n",
              "// You may obtain a copy of the License at\n",
              "//\n",
              "//      http://www.apache.org/licenses/LICENSE-2.0\n",
              "//\n",
              "// Unless required by applicable law or agreed to in writing, software\n",
              "// distributed under the License is distributed on an \"AS IS\" BASIS,\n",
              "// WITHOUT WARRANTIES OR CONDITIONS OF ANY KIND, either express or implied.\n",
              "// See the License for the specific language governing permissions and\n",
              "// limitations under the License.\n",
              "\n",
              "/**\n",
              " * @fileoverview Helpers for google.colab Python module.\n",
              " */\n",
              "(function(scope) {\n",
              "function span(text, styleAttributes = {}) {\n",
              "  const element = document.createElement('span');\n",
              "  element.textContent = text;\n",
              "  for (const key of Object.keys(styleAttributes)) {\n",
              "    element.style[key] = styleAttributes[key];\n",
              "  }\n",
              "  return element;\n",
              "}\n",
              "\n",
              "// Max number of bytes which will be uploaded at a time.\n",
              "const MAX_PAYLOAD_SIZE = 100 * 1024;\n",
              "\n",
              "function _uploadFiles(inputId, outputId) {\n",
              "  const steps = uploadFilesStep(inputId, outputId);\n",
              "  const outputElement = document.getElementById(outputId);\n",
              "  // Cache steps on the outputElement to make it available for the next call\n",
              "  // to uploadFilesContinue from Python.\n",
              "  outputElement.steps = steps;\n",
              "\n",
              "  return _uploadFilesContinue(outputId);\n",
              "}\n",
              "\n",
              "// This is roughly an async generator (not supported in the browser yet),\n",
              "// where there are multiple asynchronous steps and the Python side is going\n",
              "// to poll for completion of each step.\n",
              "// This uses a Promise to block the python side on completion of each step,\n",
              "// then passes the result of the previous step as the input to the next step.\n",
              "function _uploadFilesContinue(outputId) {\n",
              "  const outputElement = document.getElementById(outputId);\n",
              "  const steps = outputElement.steps;\n",
              "\n",
              "  const next = steps.next(outputElement.lastPromiseValue);\n",
              "  return Promise.resolve(next.value.promise).then((value) => {\n",
              "    // Cache the last promise value to make it available to the next\n",
              "    // step of the generator.\n",
              "    outputElement.lastPromiseValue = value;\n",
              "    return next.value.response;\n",
              "  });\n",
              "}\n",
              "\n",
              "/**\n",
              " * Generator function which is called between each async step of the upload\n",
              " * process.\n",
              " * @param {string} inputId Element ID of the input file picker element.\n",
              " * @param {string} outputId Element ID of the output display.\n",
              " * @return {!Iterable<!Object>} Iterable of next steps.\n",
              " */\n",
              "function* uploadFilesStep(inputId, outputId) {\n",
              "  const inputElement = document.getElementById(inputId);\n",
              "  inputElement.disabled = false;\n",
              "\n",
              "  const outputElement = document.getElementById(outputId);\n",
              "  outputElement.innerHTML = '';\n",
              "\n",
              "  const pickedPromise = new Promise((resolve) => {\n",
              "    inputElement.addEventListener('change', (e) => {\n",
              "      resolve(e.target.files);\n",
              "    });\n",
              "  });\n",
              "\n",
              "  const cancel = document.createElement('button');\n",
              "  inputElement.parentElement.appendChild(cancel);\n",
              "  cancel.textContent = 'Cancel upload';\n",
              "  const cancelPromise = new Promise((resolve) => {\n",
              "    cancel.onclick = () => {\n",
              "      resolve(null);\n",
              "    };\n",
              "  });\n",
              "\n",
              "  // Wait for the user to pick the files.\n",
              "  const files = yield {\n",
              "    promise: Promise.race([pickedPromise, cancelPromise]),\n",
              "    response: {\n",
              "      action: 'starting',\n",
              "    }\n",
              "  };\n",
              "\n",
              "  cancel.remove();\n",
              "\n",
              "  // Disable the input element since further picks are not allowed.\n",
              "  inputElement.disabled = true;\n",
              "\n",
              "  if (!files) {\n",
              "    return {\n",
              "      response: {\n",
              "        action: 'complete',\n",
              "      }\n",
              "    };\n",
              "  }\n",
              "\n",
              "  for (const file of files) {\n",
              "    const li = document.createElement('li');\n",
              "    li.append(span(file.name, {fontWeight: 'bold'}));\n",
              "    li.append(span(\n",
              "        `(${file.type || 'n/a'}) - ${file.size} bytes, ` +\n",
              "        `last modified: ${\n",
              "            file.lastModifiedDate ? file.lastModifiedDate.toLocaleDateString() :\n",
              "                                    'n/a'} - `));\n",
              "    const percent = span('0% done');\n",
              "    li.appendChild(percent);\n",
              "\n",
              "    outputElement.appendChild(li);\n",
              "\n",
              "    const fileDataPromise = new Promise((resolve) => {\n",
              "      const reader = new FileReader();\n",
              "      reader.onload = (e) => {\n",
              "        resolve(e.target.result);\n",
              "      };\n",
              "      reader.readAsArrayBuffer(file);\n",
              "    });\n",
              "    // Wait for the data to be ready.\n",
              "    let fileData = yield {\n",
              "      promise: fileDataPromise,\n",
              "      response: {\n",
              "        action: 'continue',\n",
              "      }\n",
              "    };\n",
              "\n",
              "    // Use a chunked sending to avoid message size limits. See b/62115660.\n",
              "    let position = 0;\n",
              "    do {\n",
              "      const length = Math.min(fileData.byteLength - position, MAX_PAYLOAD_SIZE);\n",
              "      const chunk = new Uint8Array(fileData, position, length);\n",
              "      position += length;\n",
              "\n",
              "      const base64 = btoa(String.fromCharCode.apply(null, chunk));\n",
              "      yield {\n",
              "        response: {\n",
              "          action: 'append',\n",
              "          file: file.name,\n",
              "          data: base64,\n",
              "        },\n",
              "      };\n",
              "\n",
              "      let percentDone = fileData.byteLength === 0 ?\n",
              "          100 :\n",
              "          Math.round((position / fileData.byteLength) * 100);\n",
              "      percent.textContent = `${percentDone}% done`;\n",
              "\n",
              "    } while (position < fileData.byteLength);\n",
              "  }\n",
              "\n",
              "  // All done.\n",
              "  yield {\n",
              "    response: {\n",
              "      action: 'complete',\n",
              "    }\n",
              "  };\n",
              "}\n",
              "\n",
              "scope.google = scope.google || {};\n",
              "scope.google.colab = scope.google.colab || {};\n",
              "scope.google.colab._files = {\n",
              "  _uploadFiles,\n",
              "  _uploadFilesContinue,\n",
              "};\n",
              "})(self);\n",
              "</script> "
            ]
          },
          "metadata": {}
        },
        {
          "output_type": "stream",
          "name": "stdout",
          "text": [
            "Saving CSV Laboratorio 3 AD-B.csv to CSV Laboratorio 3 AD-B (1).csv\n"
          ]
        }
      ],
      "source": [
        "          from google.colab import files\n",
        "uploaded = files.upload()\n"
      ]
    },
    {
      "cell_type": "code",
      "source": [
        "import pandas as pd\n",
        "df = pd.read_csv('CSV Laboratorio 3 AD-B.csv')\n",
        "print(df)"
      ],
      "metadata": {
        "colab": {
          "base_uri": "https://localhost:8080/"
        },
        "collapsed": true,
        "id": "WhN7pKaoqT4z",
        "outputId": "fec219e0-76b9-4982-d5d4-f25a6bb5494b"
      },
      "execution_count": 7,
      "outputs": [
        {
          "output_type": "stream",
          "name": "stdout",
          "text": [
            "    ID     Name    Category         City  Value        Date\n",
            "0    1  Charlie       Cat C      Chicago   46.0   4/13/2023\n",
            "1    2     Jane       Cat C      Houston   53.0  12/15/2023\n",
            "2    3     Jane  category a      Chicago   68.0   9/28/2023\n",
            "3    4     John         NaN     New York   97.0   4/17/2023\n",
            "4    5     Jane       Cat C      Houston   71.0   3/13/2023\n",
            "5    6      Eve  category a  Los Angeles   61.0    7/8/2023\n",
            "6    7     Jane  Category A      Chicago   48.0   1/21/2023\n",
            "7    8      Bob  CATEGORY B     New York   65.0   4/13/2023\n",
            "8    9      Bob  CATEGORY B  Los Angeles    NaN    5/2/2023\n",
            "9   10     Dave  CATEGORY B  Los Angeles   11.0    8/3/2023\n",
            "10  11      Bob       Cat C          NaN   96.0  11/27/2023\n",
            "11  12     Dave  Category A      Houston   10.0   3/29/2023\n",
            "12  13      Bob       Cat C      Chicago   11.0   4/10/2023\n",
            "13  14      Eve         NaN     New York   99.0  12/26/2023\n",
            "14  15    Grace       Cat C          NaN   41.0    6/1/2023\n",
            "15  16     Dave  Category A      Houston   64.0   5/11/2023\n",
            "16  17    Alice  Category A          NaN   26.0   5/30/2023\n",
            "17  18  Charlie         NaN      Houston   33.0   11/5/2023\n",
            "18  19     John  Category A      Houston   79.0   9/15/2023\n",
            "19  20      Bob  Category A      Chicago   25.0  12/10/2023\n",
            "20  21     Jane  CATEGORY B      Houston   68.0  10/21/2023\n",
            "21  22    Grace         NaN          NaN   12.0   7/11/2023\n",
            "22  23      Bob  Category B      Houston   68.0   10/4/2023\n",
            "23  24     Jane  Category B      Chicago   99.0   6/10/2023\n",
            "24  25  Charlie  Category A      Chicago   28.0  11/10/2023\n",
            "25  26  Charlie  Category B          NaN   80.0   1/22/2023\n",
            "26  27  Charlie  Category B  Los Angeles   42.0   9/10/2023\n",
            "27  28     Jane  Category A  Los Angeles   48.0   8/24/2023\n",
            "28  29      Bob  Category B      Houston   10.0  12/11/2023\n",
            "29  30  Charlie       Cat C     New York   66.0   2/18/2023\n",
            "30  31      Eve  category a      Houston   32.0   2/28/2023\n",
            "31  32     Dave         NaN          NaN   51.0   6/19/2023\n",
            "32  33     Jane  category a          NaN   25.0    7/7/2023\n",
            "33  34     Jane  Category A          NaN   69.0   9/28/2023\n",
            "34  35      Bob  CATEGORY B          NaN   10.0    7/9/2023\n",
            "35  36     Jane         NaN          NaN    NaN   6/24/2023\n",
            "36  37     Jane  Category A      Chicago   46.0   2/20/2023\n",
            "37  38  Charlie  CATEGORY B  Los Angeles   18.0  12/30/2023\n",
            "38  39      Bob  category a          NaN   28.0   2/24/2023\n",
            "39  40  Charlie  Category A     New York   12.0    9/1/2023\n",
            "40  41     Dave         NaN     New York   63.0  11/16/2023\n",
            "41  42    Grace         NaN     New York   33.0   5/11/2023\n",
            "42  43     Dave       Cat-C     New York   81.0   11/3/2023\n",
            "43  44    Grace       Cat C      Chicago   93.0   5/15/2023\n",
            "44  45  Charlie  Category B     New York   98.0   1/21/2023\n",
            "45  46     Dave  CATEGORY B          NaN   27.0  11/25/2023\n",
            "46  47      Bob       Cat-C      Houston   91.0   6/16/2023\n",
            "47  48     John  Category B     New York   44.0   10/1/2023\n",
            "48  49  Charlie  Category B      Chicago   50.0   3/30/2023\n",
            "49  50    Grace  Category A      Chicago   77.0  11/12/2023\n",
            "50  14      Eve         NaN     New York   99.0  12/26/2023\n",
            "51  40  Charlie  Category A     New York   12.0    9/1/2023\n",
            "52  31      Eve  category a      Houston   32.0   2/28/2023\n",
            "53  46     Dave  CATEGORY B          NaN   27.0  11/25/2023\n",
            "54  18  Charlie         NaN      Houston   33.0   11/5/2023\n",
            "55  49  Charlie  Category B      Chicago   50.0   3/30/2023\n",
            "56  27  Charlie  Category B  Los Angeles   42.0   9/10/2023\n",
            "57  26  Charlie  Category B          NaN   80.0   1/22/2023\n",
            "58  33     Jane  category a          NaN   25.0    7/7/2023\n",
            "59  20      Bob  Category A      Chicago   25.0  12/10/2023\n"
          ]
        }
      ]
    },
    {
      "cell_type": "code",
      "source": [
        "# Mostrar datos nulos\n",
        "print(df.isnull())"
      ],
      "metadata": {
        "colab": {
          "base_uri": "https://localhost:8080/"
        },
        "collapsed": true,
        "id": "2-WEvPuA8FwC",
        "outputId": "ad00396e-1ea1-45fa-c6ab-74cdc3a4aff6"
      },
      "execution_count": 44,
      "outputs": [
        {
          "output_type": "stream",
          "name": "stdout",
          "text": [
            "       ID   Name  Category   City  Value   Date\n",
            "0   False  False     False  False  False  False\n",
            "1   False  False     False  False  False  False\n",
            "2   False  False     False  False  False  False\n",
            "4   False  False     False  False  False  False\n",
            "5   False  False     False  False  False  False\n",
            "6   False  False     False  False  False  False\n",
            "7   False  False     False  False  False  False\n",
            "9   False  False     False  False  False  False\n",
            "11  False  False     False  False  False  False\n",
            "12  False  False     False  False  False  False\n",
            "15  False  False     False  False  False  False\n",
            "18  False  False     False  False  False  False\n",
            "19  False  False     False  False  False  False\n",
            "20  False  False     False  False  False  False\n",
            "22  False  False     False  False  False  False\n",
            "23  False  False     False  False  False  False\n",
            "24  False  False     False  False  False  False\n",
            "26  False  False     False  False  False  False\n",
            "27  False  False     False  False  False  False\n",
            "28  False  False     False  False  False  False\n",
            "29  False  False     False  False  False  False\n",
            "30  False  False     False  False  False  False\n",
            "36  False  False     False  False  False  False\n",
            "37  False  False     False  False  False  False\n",
            "39  False  False     False  False  False  False\n",
            "42  False  False     False  False  False  False\n",
            "43  False  False     False  False  False  False\n",
            "44  False  False     False  False  False  False\n",
            "46  False  False     False  False  False  False\n",
            "47  False  False     False  False  False  False\n",
            "48  False  False     False  False  False  False\n",
            "49  False  False     False  False  False  False\n"
          ]
        }
      ]
    },
    {
      "cell_type": "code",
      "source": [
        "# Mostrar datos duplicados\n",
        "print(df.duplicated().sum())\n",
        "print(df.duplicated())"
      ],
      "metadata": {
        "colab": {
          "base_uri": "https://localhost:8080/"
        },
        "collapsed": true,
        "id": "VSWUa3dn9--0",
        "outputId": "0e16d3e0-0ecd-4f81-fb7b-41b78059388f"
      },
      "execution_count": 41,
      "outputs": [
        {
          "output_type": "stream",
          "name": "stdout",
          "text": [
            "0\n",
            "0     False\n",
            "1     False\n",
            "2     False\n",
            "4     False\n",
            "5     False\n",
            "6     False\n",
            "7     False\n",
            "9     False\n",
            "11    False\n",
            "12    False\n",
            "15    False\n",
            "18    False\n",
            "19    False\n",
            "20    False\n",
            "22    False\n",
            "23    False\n",
            "24    False\n",
            "26    False\n",
            "27    False\n",
            "28    False\n",
            "29    False\n",
            "30    False\n",
            "36    False\n",
            "37    False\n",
            "39    False\n",
            "42    False\n",
            "43    False\n",
            "44    False\n",
            "46    False\n",
            "47    False\n",
            "48    False\n",
            "49    False\n",
            "dtype: bool\n"
          ]
        }
      ]
    },
    {
      "cell_type": "code",
      "source": [
        "# Conteo de frecuencia\n",
        "print(df['City'].value_counts())"
      ],
      "metadata": {
        "colab": {
          "base_uri": "https://localhost:8080/"
        },
        "collapsed": true,
        "id": "NIqOhw9TBaca",
        "outputId": "9f77f13a-0eb2-49ad-f3ac-9231922fd491"
      },
      "execution_count": 20,
      "outputs": [
        {
          "output_type": "stream",
          "name": "stdout",
          "text": [
            "City\n",
            "Chicago        13\n",
            "Houston        13\n",
            "New York       12\n",
            "Los Angeles     7\n",
            "Name: count, dtype: int64\n"
          ]
        }
      ]
    },
    {
      "cell_type": "code",
      "source": [
        "# Eliminación o remplazo de valores nul0s\n",
        "df = df.dropna()\n",
        "print(df)"
      ],
      "metadata": {
        "colab": {
          "base_uri": "https://localhost:8080/"
        },
        "collapsed": true,
        "id": "255wIgeNCb0h",
        "outputId": "079c8dda-a3ee-4289-bf80-1e960178dfc2"
      },
      "execution_count": 39,
      "outputs": [
        {
          "output_type": "stream",
          "name": "stdout",
          "text": [
            "    ID     Name    Category         City  Value       Date\n",
            "0    1  Charlie       Cat C      CHICAGO   46.0 2023-04-13\n",
            "1    2     Jane       Cat C      HOUSTON   53.0 2023-12-15\n",
            "2    3     Jane  category a      CHICAGO   68.0 2023-09-28\n",
            "4    5     Jane       Cat C      HOUSTON   71.0 2023-03-13\n",
            "5    6      Eve  category a  LOS ANGELES   61.0 2023-07-08\n",
            "6    7     Jane  Category A      CHICAGO   48.0 2023-01-21\n",
            "7    8      Bob  CATEGORY B     NEW YORK   65.0 2023-04-13\n",
            "9   10     Dave  CATEGORY B  LOS ANGELES   11.0 2023-08-03\n",
            "11  12     Dave  Category A      HOUSTON   10.0 2023-03-29\n",
            "12  13      Bob       Cat C      CHICAGO   11.0 2023-04-10\n",
            "15  16     Dave  Category A      HOUSTON   64.0 2023-05-11\n",
            "18  19     John  Category A      HOUSTON   79.0 2023-09-15\n",
            "19  20      Bob  Category A      CHICAGO   25.0 2023-12-10\n",
            "20  21     Jane  CATEGORY B      HOUSTON   68.0 2023-10-21\n",
            "22  23      Bob  Category B      HOUSTON   68.0 2023-10-04\n",
            "23  24     Jane  Category B      CHICAGO   99.0 2023-06-10\n",
            "24  25  Charlie  Category A      CHICAGO   28.0 2023-11-10\n",
            "26  27  Charlie  Category B  LOS ANGELES   42.0 2023-09-10\n",
            "27  28     Jane  Category A  LOS ANGELES   48.0 2023-08-24\n",
            "28  29      Bob  Category B      HOUSTON   10.0 2023-12-11\n",
            "29  30  Charlie       Cat C     NEW YORK   66.0 2023-02-18\n",
            "30  31      Eve  category a      HOUSTON   32.0 2023-02-28\n",
            "36  37     Jane  Category A      CHICAGO   46.0 2023-02-20\n",
            "37  38  Charlie  CATEGORY B  LOS ANGELES   18.0 2023-12-30\n",
            "39  40  Charlie  Category A     NEW YORK   12.0 2023-09-01\n",
            "42  43     Dave       Cat-C     NEW YORK   81.0 2023-11-03\n",
            "43  44    Grace       Cat C      CHICAGO   93.0 2023-05-15\n",
            "44  45  Charlie  Category B     NEW YORK   98.0 2023-01-21\n",
            "46  47      Bob       Cat-C      HOUSTON   91.0 2023-06-16\n",
            "47  48     John  Category B     NEW YORK   44.0 2023-10-01\n",
            "48  49  Charlie  Category B      CHICAGO   50.0 2023-03-30\n",
            "49  50    Grace  Category A      CHICAGO   77.0 2023-11-12\n"
          ]
        }
      ]
    },
    {
      "cell_type": "code",
      "source": [
        "# Eliminación de duplicados\n",
        "df = df.drop_duplicates()"
      ],
      "metadata": {
        "collapsed": true,
        "id": "bJSdqWYZDfIE"
      },
      "execution_count": 56,
      "outputs": []
    },
    {
      "cell_type": "code",
      "source": [
        "# Normalización de formato en columnas\n",
        "df['City'] = df['City'].str.upper()\n"
      ],
      "metadata": {
        "collapsed": true,
        "id": "drk8cmGHHbzs"
      },
      "execution_count": 54,
      "outputs": []
    },
    {
      "cell_type": "code",
      "source": [
        "# Formato fecha\n",
        "df['Date'] = pd.to_datetime(df['Date'])\n"
      ],
      "metadata": {
        "id": "YyGKZCR3GEHV"
      },
      "execution_count": 52,
      "outputs": []
    },
    {
      "cell_type": "code",
      "source": [
        "# Formato category\n",
        "df['Category'] = df['Category'].str.capitalize()\n",
        "\n",
        "# Remplazar Cat c por Category C\n",
        "df['Category'] = df['Category'].str.replace('Cat  c', 'Category C')\n",
        "df['Category'] = df['Category'].str.replace('Cat-c' , 'Category C')\n",
        "print(df)"
      ],
      "metadata": {
        "colab": {
          "base_uri": "https://localhost:8080/"
        },
        "id": "GUkO1w-6ICQk",
        "outputId": "e54fb762-81e9-41ce-dcf7-01501a5c5661"
      },
      "execution_count": 57,
      "outputs": [
        {
          "output_type": "stream",
          "name": "stdout",
          "text": [
            "    ID     Name    Category         City  Value       Date\n",
            "0    1  Charlie  Category c      CHICAGO   46.0 2023-04-13\n",
            "1    2     Jane  Category c      HOUSTON   53.0 2023-12-15\n",
            "2    3     Jane  Category a      CHICAGO   68.0 2023-09-28\n",
            "4    5     Jane  Category c      HOUSTON   71.0 2023-03-13\n",
            "5    6      Eve  Category a  LOS ANGELES   61.0 2023-07-08\n",
            "6    7     Jane  Category a      CHICAGO   48.0 2023-01-21\n",
            "7    8      Bob  Category b     NEW YORK   65.0 2023-04-13\n",
            "9   10     Dave  Category b  LOS ANGELES   11.0 2023-08-03\n",
            "11  12     Dave  Category a      HOUSTON   10.0 2023-03-29\n",
            "12  13      Bob  Category c      CHICAGO   11.0 2023-04-10\n",
            "15  16     Dave  Category a      HOUSTON   64.0 2023-05-11\n",
            "18  19     John  Category a      HOUSTON   79.0 2023-09-15\n",
            "19  20      Bob  Category a      CHICAGO   25.0 2023-12-10\n",
            "20  21     Jane  Category b      HOUSTON   68.0 2023-10-21\n",
            "22  23      Bob  Category b      HOUSTON   68.0 2023-10-04\n",
            "23  24     Jane  Category b      CHICAGO   99.0 2023-06-10\n",
            "24  25  Charlie  Category a      CHICAGO   28.0 2023-11-10\n",
            "26  27  Charlie  Category b  LOS ANGELES   42.0 2023-09-10\n",
            "27  28     Jane  Category a  LOS ANGELES   48.0 2023-08-24\n",
            "28  29      Bob  Category b      HOUSTON   10.0 2023-12-11\n",
            "29  30  Charlie  Category c     NEW YORK   66.0 2023-02-18\n",
            "30  31      Eve  Category a      HOUSTON   32.0 2023-02-28\n",
            "36  37     Jane  Category a      CHICAGO   46.0 2023-02-20\n",
            "37  38  Charlie  Category b  LOS ANGELES   18.0 2023-12-30\n",
            "39  40  Charlie  Category a     NEW YORK   12.0 2023-09-01\n",
            "42  43     Dave  Category c     NEW YORK   81.0 2023-11-03\n",
            "43  44    Grace  Category c      CHICAGO   93.0 2023-05-15\n",
            "44  45  Charlie  Category b     NEW YORK   98.0 2023-01-21\n",
            "46  47      Bob  Category c      HOUSTON   91.0 2023-06-16\n",
            "47  48     John  Category b     NEW YORK   44.0 2023-10-01\n",
            "48  49  Charlie  Category b      CHICAGO   50.0 2023-03-30\n",
            "49  50    Grace  Category a      CHICAGO   77.0 2023-11-12\n"
          ]
        }
      ]
    },
    {
      "cell_type": "code",
      "source": [
        "# Guardar archivo CSV\n",
        "ruta_archivo = \"C:/Users/yccab/OneDrive/Escritorio/df_resultado.csv\"\n",
        "df.to_csv(ruta_archivo, index=False)\n",
        "print(\"Archivo CSV guardado en:\", ruta_archivo)"
      ],
      "metadata": {
        "colab": {
          "base_uri": "https://localhost:8080/",
          "height": 391
        },
        "collapsed": true,
        "id": "sFirsah7K9MD",
        "outputId": "fd5fb659-d6a8-4822-ec33-d81551b5e715"
      },
      "execution_count": 50,
      "outputs": [
        {
          "output_type": "error",
          "ename": "OSError",
          "evalue": "Cannot save file into a non-existent directory: 'C:/Users/yccab/OneDrive/Escritorio'",
          "traceback": [
            "\u001b[0;31m---------------------------------------------------------------------------\u001b[0m",
            "\u001b[0;31mOSError\u001b[0m                                   Traceback (most recent call last)",
            "\u001b[0;32m<ipython-input-50-c9742f40760d>\u001b[0m in \u001b[0;36m<cell line: 0>\u001b[0;34m()\u001b[0m\n\u001b[1;32m      1\u001b[0m \u001b[0;31m# Guardar archivo CSV\u001b[0m\u001b[0;34m\u001b[0m\u001b[0;34m\u001b[0m\u001b[0m\n\u001b[1;32m      2\u001b[0m \u001b[0mruta_archivo\u001b[0m \u001b[0;34m=\u001b[0m \u001b[0;34m\"C:/Users/yccab/OneDrive/Escritorio/df_resultado.csv\"\u001b[0m\u001b[0;34m\u001b[0m\u001b[0;34m\u001b[0m\u001b[0m\n\u001b[0;32m----> 3\u001b[0;31m \u001b[0mdf\u001b[0m\u001b[0;34m.\u001b[0m\u001b[0mto_csv\u001b[0m\u001b[0;34m(\u001b[0m\u001b[0mruta_archivo\u001b[0m\u001b[0;34m,\u001b[0m \u001b[0mindex\u001b[0m\u001b[0;34m=\u001b[0m\u001b[0;32mFalse\u001b[0m\u001b[0;34m)\u001b[0m\u001b[0;34m\u001b[0m\u001b[0;34m\u001b[0m\u001b[0m\n\u001b[0m\u001b[1;32m      4\u001b[0m \u001b[0mprint\u001b[0m\u001b[0;34m(\u001b[0m\u001b[0;34m\"Archivo CSV guardado en:\"\u001b[0m\u001b[0;34m,\u001b[0m \u001b[0mruta_archivo\u001b[0m\u001b[0;34m)\u001b[0m\u001b[0;34m\u001b[0m\u001b[0;34m\u001b[0m\u001b[0m\n",
            "\u001b[0;32m/usr/local/lib/python3.11/dist-packages/pandas/util/_decorators.py\u001b[0m in \u001b[0;36mwrapper\u001b[0;34m(*args, **kwargs)\u001b[0m\n\u001b[1;32m    331\u001b[0m                     \u001b[0mstacklevel\u001b[0m\u001b[0;34m=\u001b[0m\u001b[0mfind_stack_level\u001b[0m\u001b[0;34m(\u001b[0m\u001b[0;34m)\u001b[0m\u001b[0;34m,\u001b[0m\u001b[0;34m\u001b[0m\u001b[0;34m\u001b[0m\u001b[0m\n\u001b[1;32m    332\u001b[0m                 )\n\u001b[0;32m--> 333\u001b[0;31m             \u001b[0;32mreturn\u001b[0m \u001b[0mfunc\u001b[0m\u001b[0;34m(\u001b[0m\u001b[0;34m*\u001b[0m\u001b[0margs\u001b[0m\u001b[0;34m,\u001b[0m \u001b[0;34m**\u001b[0m\u001b[0mkwargs\u001b[0m\u001b[0;34m)\u001b[0m\u001b[0;34m\u001b[0m\u001b[0;34m\u001b[0m\u001b[0m\n\u001b[0m\u001b[1;32m    334\u001b[0m \u001b[0;34m\u001b[0m\u001b[0m\n\u001b[1;32m    335\u001b[0m         \u001b[0;31m# error: \"Callable[[VarArg(Any), KwArg(Any)], Any]\" has no\u001b[0m\u001b[0;34m\u001b[0m\u001b[0;34m\u001b[0m\u001b[0m\n",
            "\u001b[0;32m/usr/local/lib/python3.11/dist-packages/pandas/core/generic.py\u001b[0m in \u001b[0;36mto_csv\u001b[0;34m(self, path_or_buf, sep, na_rep, float_format, columns, header, index, index_label, mode, encoding, compression, quoting, quotechar, lineterminator, chunksize, date_format, doublequote, escapechar, decimal, errors, storage_options)\u001b[0m\n\u001b[1;32m   3965\u001b[0m         )\n\u001b[1;32m   3966\u001b[0m \u001b[0;34m\u001b[0m\u001b[0m\n\u001b[0;32m-> 3967\u001b[0;31m         return DataFrameRenderer(formatter).to_csv(\n\u001b[0m\u001b[1;32m   3968\u001b[0m             \u001b[0mpath_or_buf\u001b[0m\u001b[0;34m,\u001b[0m\u001b[0;34m\u001b[0m\u001b[0;34m\u001b[0m\u001b[0m\n\u001b[1;32m   3969\u001b[0m             \u001b[0mlineterminator\u001b[0m\u001b[0;34m=\u001b[0m\u001b[0mlineterminator\u001b[0m\u001b[0;34m,\u001b[0m\u001b[0;34m\u001b[0m\u001b[0;34m\u001b[0m\u001b[0m\n",
            "\u001b[0;32m/usr/local/lib/python3.11/dist-packages/pandas/io/formats/format.py\u001b[0m in \u001b[0;36mto_csv\u001b[0;34m(self, path_or_buf, encoding, sep, columns, index_label, mode, compression, quoting, quotechar, lineterminator, chunksize, date_format, doublequote, escapechar, errors, storage_options)\u001b[0m\n\u001b[1;32m   1012\u001b[0m             \u001b[0mformatter\u001b[0m\u001b[0;34m=\u001b[0m\u001b[0mself\u001b[0m\u001b[0;34m.\u001b[0m\u001b[0mfmt\u001b[0m\u001b[0;34m,\u001b[0m\u001b[0;34m\u001b[0m\u001b[0;34m\u001b[0m\u001b[0m\n\u001b[1;32m   1013\u001b[0m         )\n\u001b[0;32m-> 1014\u001b[0;31m         \u001b[0mcsv_formatter\u001b[0m\u001b[0;34m.\u001b[0m\u001b[0msave\u001b[0m\u001b[0;34m(\u001b[0m\u001b[0;34m)\u001b[0m\u001b[0;34m\u001b[0m\u001b[0;34m\u001b[0m\u001b[0m\n\u001b[0m\u001b[1;32m   1015\u001b[0m \u001b[0;34m\u001b[0m\u001b[0m\n\u001b[1;32m   1016\u001b[0m         \u001b[0;32mif\u001b[0m \u001b[0mcreated_buffer\u001b[0m\u001b[0;34m:\u001b[0m\u001b[0;34m\u001b[0m\u001b[0;34m\u001b[0m\u001b[0m\n",
            "\u001b[0;32m/usr/local/lib/python3.11/dist-packages/pandas/io/formats/csvs.py\u001b[0m in \u001b[0;36msave\u001b[0;34m(self)\u001b[0m\n\u001b[1;32m    249\u001b[0m         \"\"\"\n\u001b[1;32m    250\u001b[0m         \u001b[0;31m# apply compression and byte/text conversion\u001b[0m\u001b[0;34m\u001b[0m\u001b[0;34m\u001b[0m\u001b[0m\n\u001b[0;32m--> 251\u001b[0;31m         with get_handle(\n\u001b[0m\u001b[1;32m    252\u001b[0m             \u001b[0mself\u001b[0m\u001b[0;34m.\u001b[0m\u001b[0mfilepath_or_buffer\u001b[0m\u001b[0;34m,\u001b[0m\u001b[0;34m\u001b[0m\u001b[0;34m\u001b[0m\u001b[0m\n\u001b[1;32m    253\u001b[0m             \u001b[0mself\u001b[0m\u001b[0;34m.\u001b[0m\u001b[0mmode\u001b[0m\u001b[0;34m,\u001b[0m\u001b[0;34m\u001b[0m\u001b[0;34m\u001b[0m\u001b[0m\n",
            "\u001b[0;32m/usr/local/lib/python3.11/dist-packages/pandas/io/common.py\u001b[0m in \u001b[0;36mget_handle\u001b[0;34m(path_or_buf, mode, encoding, compression, memory_map, is_text, errors, storage_options)\u001b[0m\n\u001b[1;32m    747\u001b[0m     \u001b[0;31m# Only for write methods\u001b[0m\u001b[0;34m\u001b[0m\u001b[0;34m\u001b[0m\u001b[0m\n\u001b[1;32m    748\u001b[0m     \u001b[0;32mif\u001b[0m \u001b[0;34m\"r\"\u001b[0m \u001b[0;32mnot\u001b[0m \u001b[0;32min\u001b[0m \u001b[0mmode\u001b[0m \u001b[0;32mand\u001b[0m \u001b[0mis_path\u001b[0m\u001b[0;34m:\u001b[0m\u001b[0;34m\u001b[0m\u001b[0;34m\u001b[0m\u001b[0m\n\u001b[0;32m--> 749\u001b[0;31m         \u001b[0mcheck_parent_directory\u001b[0m\u001b[0;34m(\u001b[0m\u001b[0mstr\u001b[0m\u001b[0;34m(\u001b[0m\u001b[0mhandle\u001b[0m\u001b[0;34m)\u001b[0m\u001b[0;34m)\u001b[0m\u001b[0;34m\u001b[0m\u001b[0;34m\u001b[0m\u001b[0m\n\u001b[0m\u001b[1;32m    750\u001b[0m \u001b[0;34m\u001b[0m\u001b[0m\n\u001b[1;32m    751\u001b[0m     \u001b[0;32mif\u001b[0m \u001b[0mcompression\u001b[0m\u001b[0;34m:\u001b[0m\u001b[0;34m\u001b[0m\u001b[0;34m\u001b[0m\u001b[0m\n",
            "\u001b[0;32m/usr/local/lib/python3.11/dist-packages/pandas/io/common.py\u001b[0m in \u001b[0;36mcheck_parent_directory\u001b[0;34m(path)\u001b[0m\n\u001b[1;32m    614\u001b[0m     \u001b[0mparent\u001b[0m \u001b[0;34m=\u001b[0m \u001b[0mPath\u001b[0m\u001b[0;34m(\u001b[0m\u001b[0mpath\u001b[0m\u001b[0;34m)\u001b[0m\u001b[0;34m.\u001b[0m\u001b[0mparent\u001b[0m\u001b[0;34m\u001b[0m\u001b[0;34m\u001b[0m\u001b[0m\n\u001b[1;32m    615\u001b[0m     \u001b[0;32mif\u001b[0m \u001b[0;32mnot\u001b[0m \u001b[0mparent\u001b[0m\u001b[0;34m.\u001b[0m\u001b[0mis_dir\u001b[0m\u001b[0;34m(\u001b[0m\u001b[0;34m)\u001b[0m\u001b[0;34m:\u001b[0m\u001b[0;34m\u001b[0m\u001b[0;34m\u001b[0m\u001b[0m\n\u001b[0;32m--> 616\u001b[0;31m         \u001b[0;32mraise\u001b[0m \u001b[0mOSError\u001b[0m\u001b[0;34m(\u001b[0m\u001b[0;34mrf\"Cannot save file into a non-existent directory: '{parent}'\"\u001b[0m\u001b[0;34m)\u001b[0m\u001b[0;34m\u001b[0m\u001b[0;34m\u001b[0m\u001b[0m\n\u001b[0m\u001b[1;32m    617\u001b[0m \u001b[0;34m\u001b[0m\u001b[0m\n\u001b[1;32m    618\u001b[0m \u001b[0;34m\u001b[0m\u001b[0m\n",
            "\u001b[0;31mOSError\u001b[0m: Cannot save file into a non-existent directory: 'C:/Users/yccab/OneDrive/Escritorio'"
          ]
        }
      ]
    }
  ]
}